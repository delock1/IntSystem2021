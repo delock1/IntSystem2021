{
 "cells": [
  {
   "cell_type": "markdown",
   "metadata": {},
   "source": [
    "### 1、Import tensorflow and use tensorflow to define a constant."
   ]
  },
  {
   "cell_type": "code",
   "execution_count": 4,
   "metadata": {},
   "outputs": [],
   "source": [
    "import tensorflow as tf\n",
    "hello = tf.constant('Welcome to Huawei')"
   ]
  },
  {
   "cell_type": "markdown",
   "metadata": {},
   "source": [
    "### 2、Use tensorflow to print 'Welcome to Huawei'."
   ]
  },
  {
   "cell_type": "code",
   "execution_count": 5,
   "metadata": {},
   "outputs": [
    {
     "name": "stdout",
     "output_type": "stream",
     "text": [
      "b'Welcome to Huawei'\n"
     ]
    }
   ],
   "source": [
    "sess = tf.Session()    \n",
    "print(sess.run(hello))\n"
   ]
  },
  {
   "cell_type": "markdown",
   "metadata": {},
   "source": [
    "### 3、Use tensorflow to define two numeric constants,then calculate them and print the result."
   ]
  },
  {
   "cell_type": "code",
   "execution_count": 6,
   "metadata": {},
   "outputs": [
    {
     "name": "stdout",
     "output_type": "stream",
     "text": [
      "6\n"
     ]
    }
   ],
   "source": [
    "a=tf.constant(3)\n",
    "b=tf.constant(2)\n",
    "c=tf.math.multiply(a,b)\n",
    "print(sess.run(c))"
   ]
  },
  {
   "cell_type": "markdown",
   "metadata": {},
   "source": [
    "### 4、Randomly generate two matrices using tensorflow, calculate and print the result of their multiplication."
   ]
  },
  {
   "cell_type": "code",
   "execution_count": 7,
   "metadata": {},
   "outputs": [
    {
     "name": "stdout",
     "output_type": "stream",
     "text": [
      "[[ 58  64]\n",
      " [139 154]]\n"
     ]
    }
   ],
   "source": [
    "M1 = tf.constant([1, 2, 3, 4, 5, 6], shape=[2, 3])\n",
    "M2 = tf.constant([7, 8, 9, 10, 11, 12], shape=[3, 2])\n",
    "res= tf.linalg.matmul(\n",
    "    M1, M2, transpose_a=False, transpose_b=False, adjoint_a=False, adjoint_b=False,\n",
    "    a_is_sparse=False, b_is_sparse=False, name=None\n",
    ")\n",
    "print(sess.run(res))\n"
   ]
  },
  {
   "cell_type": "markdown",
   "metadata": {},
   "source": [
    "### 5、Try to use your own handwriting number to do image recognition"
   ]
  },
  {
   "cell_type": "code",
   "execution_count": 8,
   "metadata": {},
   "outputs": [],
   "source": [
    "\n",
    "mnist = tf.keras.datasets.mnist\n",
    "(x_train, y_train),(x_test, y_test) = mnist.load_data()\n"
   ]
  },
  {
   "cell_type": "code",
   "execution_count": 9,
   "metadata": {},
   "outputs": [],
   "source": [
    "x_train, x_test = x_train / 255.0, x_test / 255.0\n"
   ]
  },
  {
   "cell_type": "code",
   "execution_count": 10,
   "metadata": {},
   "outputs": [
    {
     "name": "stdout",
     "output_type": "stream",
     "text": [
      "WARNING:tensorflow:From /home/andrey/.local/lib/python3.6/site-packages/tensorflow/python/ops/init_ops.py:1251: calling VarianceScaling.__init__ (from tensorflow.python.ops.init_ops) with dtype is deprecated and will be removed in a future version.\n",
      "Instructions for updating:\n",
      "Call initializer instance with the dtype argument instead of passing it to the constructor\n"
     ]
    }
   ],
   "source": [
    "model = tf.keras.models.Sequential([\n",
    "  tf.keras.layers.Flatten(input_shape=(28, 28)),\n",
    "  tf.keras.layers.Dense(128, activation='relu'),\n",
    "  tf.keras.layers.Dropout(0.2),\n",
    "  tf.keras.layers.Dense(10, activation='softmax')\n",
    "])"
   ]
  },
  {
   "cell_type": "code",
   "execution_count": 11,
   "metadata": {},
   "outputs": [],
   "source": [
    "model.compile(optimizer='adam',\n",
    "              loss='sparse_categorical_crossentropy',\n",
    "              metrics=['accuracy'])"
   ]
  },
  {
   "cell_type": "code",
   "execution_count": 12,
   "metadata": {},
   "outputs": [],
   "source": [
    "class myCallback(tf.keras.callbacks.Callback):\n",
    "  def on_epoch_end(self, epoch, logs={}):\n",
    "    if(logs.get('acc')>0.99):\n",
    "      print(\"\\nReached 99.0% accuracy so cancelling training!\")\n",
    "      self.model.stop_training = True"
   ]
  },
  {
   "cell_type": "code",
   "execution_count": 11,
   "metadata": {},
   "outputs": [
    {
     "name": "stdout",
     "output_type": "stream",
     "text": [
      "Epoch 1/50\n",
      "60000/60000 [==============================] - 3s 47us/sample - loss: 0.2962 - acc: 0.9137\n",
      "Epoch 2/50\n",
      "60000/60000 [==============================] - 3s 43us/sample - loss: 0.1425 - acc: 0.9580\n",
      "Epoch 3/50\n",
      "60000/60000 [==============================] - 3s 43us/sample - loss: 0.1076 - acc: 0.9670\n",
      "Epoch 4/50\n",
      "60000/60000 [==============================] - 3s 47us/sample - loss: 0.0898 - acc: 0.9725\n",
      "Epoch 5/50\n",
      "60000/60000 [==============================] - 3s 45us/sample - loss: 0.0745 - acc: 0.9767\n",
      "Epoch 6/50\n",
      "60000/60000 [==============================] - 3s 46us/sample - loss: 0.0662 - acc: 0.9790\n",
      "Epoch 7/50\n",
      "60000/60000 [==============================] - 3s 46us/sample - loss: 0.0581 - acc: 0.9816\n",
      "Epoch 8/50\n",
      "60000/60000 [==============================] - 3s 46us/sample - loss: 0.0528 - acc: 0.9832\n",
      "Epoch 9/50\n",
      "60000/60000 [==============================] - 3s 47us/sample - loss: 0.0486 - acc: 0.9843\n",
      "Epoch 10/50\n",
      "60000/60000 [==============================] - 3s 48us/sample - loss: 0.0448 - acc: 0.9853\n",
      "Epoch 11/50\n",
      "60000/60000 [==============================] - 3s 46us/sample - loss: 0.0407 - acc: 0.9863\n",
      "Epoch 12/50\n",
      "60000/60000 [==============================] - 3s 45us/sample - loss: 0.0398 - acc: 0.9869\n",
      "Epoch 13/50\n",
      "60000/60000 [==============================] - 3s 46us/sample - loss: 0.0359 - acc: 0.9884\n",
      "Epoch 14/50\n",
      "60000/60000 [==============================] - 3s 45us/sample - loss: 0.0331 - acc: 0.9891\n",
      "Epoch 15/50\n",
      "60000/60000 [==============================] - 3s 50us/sample - loss: 0.0317 - acc: 0.9894\n",
      "Epoch 16/50\n",
      "60000/60000 [==============================] - 3s 45us/sample - loss: 0.0309 - acc: 0.9894\n",
      "Epoch 17/50\n",
      "59168/60000 [============================>.] - ETA: 0s - loss: 0.0290 - acc: 0.9903\n",
      "Reached 99.0% accuracy so cancelling training!\n",
      "60000/60000 [==============================] - 3s 46us/sample - loss: 0.0292 - acc: 0.9902\n"
     ]
    },
    {
     "data": {
      "text/plain": [
       "<tensorflow.python.keras.callbacks.History at 0x7f6186394208>"
      ]
     },
     "execution_count": 11,
     "metadata": {},
     "output_type": "execute_result"
    }
   ],
   "source": [
    "model.fit(x_train,\n",
    "          y_train,\n",
    "          epochs=50,\n",
    "          callbacks=[myCallback()])"
   ]
  },
  {
   "cell_type": "code",
   "execution_count": 13,
   "metadata": {},
   "outputs": [
    {
     "name": "stdout",
     "output_type": "stream",
     "text": [
      "10000/10000 [==============================] - 0s 30us/sample - loss: 2.5117 - acc: 0.0569\n"
     ]
    },
    {
     "data": {
      "text/plain": [
       "[2.51172364692688, 0.0569]"
      ]
     },
     "execution_count": 13,
     "metadata": {},
     "output_type": "execute_result"
    }
   ],
   "source": [
    "model.evaluate(x_test, y_test)\n"
   ]
  },
  {
   "cell_type": "code",
   "execution_count": 17,
   "metadata": {},
   "outputs": [
    {
     "name": "stderr",
     "output_type": "stream",
     "text": [
      "/usr/lib/python3/dist-packages/ipykernel_launcher.py:9: DeprecationWarning: scipy.imag is deprecated and will be removed in SciPy 2.0.0, use numpy.imag instead\n",
      "  if __name__ == '__main__':\n"
     ]
    },
    {
     "ename": "NameError",
     "evalue": "name 'sess' is not defined",
     "output_type": "error",
     "traceback": [
      "\u001b[0;31m---------------------------------------------------------------------------\u001b[0m",
      "\u001b[0;31mNameError\u001b[0m                                 Traceback (most recent call last)",
      "\u001b[0;32m<ipython-input-17-5907667a2883>\u001b[0m in \u001b[0;36m<module>\u001b[0;34m()\u001b[0m\n\u001b[1;32m      9\u001b[0m \u001b[0mdigit\u001b[0m \u001b[0;34m=\u001b[0m \u001b[0mscipy\u001b[0m\u001b[0;34m.\u001b[0m\u001b[0mimag\u001b[0m\u001b[0;34m(\u001b[0m\u001b[0;34m\"digit.jpg\"\u001b[0m\u001b[0;34m)\u001b[0m\u001b[0;34m\u001b[0m\u001b[0;34m\u001b[0m\u001b[0m\n\u001b[1;32m     10\u001b[0m \u001b[0mfeed_dict\u001b[0m \u001b[0;34m=\u001b[0m \u001b[0;34m{\u001b[0m\u001b[0mimg\u001b[0m\u001b[0;34m:\u001b[0m\u001b[0mdigit\u001b[0m\u001b[0;34m}\u001b[0m\u001b[0;34m\u001b[0m\u001b[0;34m\u001b[0m\u001b[0m\n\u001b[0;32m---> 11\u001b[0;31m \u001b[0mprint\u001b[0m\u001b[0;34m(\u001b[0m\u001b[0msess\u001b[0m\u001b[0;34m.\u001b[0m\u001b[0mrun\u001b[0m\u001b[0;34m(\u001b[0m\u001b[0mmodel\u001b[0m\u001b[0;34m,\u001b[0m \u001b[0mfeed_dict\u001b[0m\u001b[0;34m=\u001b[0m\u001b[0mfeed_dict\u001b[0m\u001b[0;34m)\u001b[0m\u001b[0;34m)\u001b[0m\u001b[0;34m\u001b[0m\u001b[0;34m\u001b[0m\u001b[0m\n\u001b[0m",
      "\u001b[0;31mNameError\u001b[0m: name 'sess' is not defined"
     ]
    }
   ],
   "source": [
    "#image = cv2.imread(\"Untitled.jpg\")\n",
    "#image = np.multiply(image, 1.0/255.0)\n",
    "#images=tf.reshape(image,[-1,28,28,1])\n",
    "#feed_dict1 = {x: images}\n",
    "#classification = sess.run(y_pred, feed_dict1)\n",
    "#print (classification)\n",
    "#import scipy\n",
    "#img = tf.placeholder(tf.float32, shape=(None))\n",
    "#digit = scipy.imag(\"digit.jpg\")\n",
    "#feed_dict = {img:digit}\n",
    "#print(sess.run(model, feed_dict=feed_dict))"
   ]
  },
  {
   "cell_type": "code",
   "execution_count": 14,
   "metadata": {},
   "outputs": [
    {
     "name": "stdout",
     "output_type": "stream",
     "text": [
      "[[0.09457045 0.01982143 0.28575754 0.06740791 0.00764072 0.01303016\n",
      "  0.00819906 0.15840839 0.02291273 0.32225162]]\n"
     ]
    }
   ],
   "source": [
    "import cv2\n",
    "import numpy as np\n",
    "image = cv2.imread(\"9.jpg\",cv2.IMREAD_GRAYSCALE)\n",
    "image = cv2.resize(image,  (28, 28)) \n",
    "#image.reshape((28,28))\n",
    "image = np.multiply(image, 1.0/255.0)\n",
    "images= np.reshape(image,[1,28,28])\n",
    "CATEGORIES=['1','2','3','4','5','6','7','8','9','0']\n",
    "prediction = model.predict([images])\n",
    "print(prediction)\n",
    "\n",
    "#feed_dict1 = {x: images}\n",
    "#classification = sess.run(model, feed_dict1)\n",
    "#print (classification)"
   ]
  },
  {
   "cell_type": "code",
   "execution_count": 28,
   "metadata": {},
   "outputs": [
    {
     "name": "stdout",
     "output_type": "stream",
     "text": [
      "9\n"
     ]
    }
   ],
   "source": [
    "#print(prediction[0].index(max(prediction[0])))\n",
    "#print(CATEGORIES[int(max(prediction[0][0]]))\n",
    "print(CATEGORIES[int(prediction.argmax(axis=1))-1])\n"
   ]
  },
  {
   "cell_type": "code",
   "execution_count": null,
   "metadata": {},
   "outputs": [],
   "source": []
  }
 ],
 "metadata": {
  "kernelspec": {
   "display_name": "Python 3",
   "language": "python",
   "name": "python3"
  }
 },
 "nbformat": 4,
 "nbformat_minor": 4
}
